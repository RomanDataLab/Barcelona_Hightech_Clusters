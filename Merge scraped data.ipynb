{
 "cells": [
  {
   "cell_type": "code",
   "execution_count": 2,
   "id": "716ca0f2",
   "metadata": {},
   "outputs": [],
   "source": [
    "import pandas as pd\n",
    "import plotly.express as px\n",
    "import folium"
   ]
  },
  {
   "cell_type": "code",
   "execution_count": 3,
   "id": "da43e67d",
   "metadata": {},
   "outputs": [
    {
     "name": "stderr",
     "output_type": "stream",
     "text": [
      "C:\\Users\\rubyc\\AppData\\Local\\Temp\\ipykernel_24856\\3962380490.py:1: DtypeWarning: Columns (135,137,139,141,142) have mixed types. Specify dtype option on import or set low_memory=False.\n",
      "  df2 = pd.read_csv('economic_activities_merged_codes.csv')\n"
     ]
    }
   ],
   "source": [
    "df2 = pd.read_csv('economic_activities_merged_codes.csv')"
   ]
  },
  {
   "cell_type": "code",
   "execution_count": 4,
   "id": "054bde14",
   "metadata": {},
   "outputs": [],
   "source": [
    "df_start = pd.read_csv('cti_robot.csv')"
   ]
  },
  {
   "cell_type": "code",
   "execution_count": 5,
   "id": "8e5006b3",
   "metadata": {},
   "outputs": [
    {
     "name": "stdout",
     "output_type": "stream",
     "text": [
      "<class 'pandas.core.frame.DataFrame'>\n",
      "RangeIndex: 259 entries, 0 to 258\n",
      "Data columns (total 17 columns):\n",
      " #   Column        Non-Null Count  Dtype  \n",
      "---  ------        --------------  -----  \n",
      " 0   name          259 non-null    object \n",
      " 1   brief         259 non-null    object \n",
      " 2   branch        259 non-null    object \n",
      " 3   address       259 non-null    object \n",
      " 4   tel           241 non-null    float64\n",
      " 5   web           254 non-null    object \n",
      " 6   profile       259 non-null    object \n",
      " 7   tech          259 non-null    object \n",
      " 8   ducts         259 non-null    object \n",
      " 9   apps          257 non-null    object \n",
      " 10  cnae          259 non-null    object \n",
      " 11  est           259 non-null    object \n",
      " 12  turn          97 non-null     object \n",
      " 13  emp           98 non-null     object \n",
      " 14  info_added    259 non-null    object \n",
      " 15  municipality  259 non-null    object \n",
      " 16  post          259 non-null    int64  \n",
      "dtypes: float64(1), int64(1), object(15)\n",
      "memory usage: 34.5+ KB\n"
     ]
    }
   ],
   "source": [
    "df_start.info()"
   ]
  },
  {
   "cell_type": "code",
   "execution_count": 6,
   "id": "4556c638",
   "metadata": {},
   "outputs": [],
   "source": [
    "df_start['name']=df_start['name']. apply(str. upper)"
   ]
  },
  {
   "cell_type": "code",
   "execution_count": 7,
   "id": "6f06da3f",
   "metadata": {},
   "outputs": [
    {
     "data": {
      "text/plain": [
       "0                          INVESTMENT FLAT CAPITAL S.L.\n",
       "1     DRAGADOS OBRAS Y PROYECTOS SA NECSO ENTRECANAL...\n",
       "2                                                   NaN\n",
       "3                               GRUPO XARELO GREEN S.L.\n",
       "4                                   DEXZ YUANLAOSI S.L.\n",
       "5                                                   NaN\n",
       "6          ASSOCIACIO DE BOTIGUERS DE MARAGALL TRINXANT\n",
       "7                                        JAMALI 11 S.L.\n",
       "8                                 EPHYMER CLINIC S.L.P.\n",
       "9                                CQ SWEET SURPRISE S.L.\n",
       "10                                 GROUP CITY 2021 S.L.\n",
       "11                                SUN FLOWER NAILS S.L.\n",
       "12                                    KOMOMBO TECH S.L.\n",
       "13                               MUNTANE FERRETERO S.L.\n",
       "14                                GADLIS BARCELONA S.L.\n",
       "Name: ADN_RZS, dtype: object"
      ]
     },
     "execution_count": 7,
     "metadata": {},
     "output_type": "execute_result"
    }
   ],
   "source": [
    "df2['ADN_RZS'].head(15)"
   ]
  },
  {
   "cell_type": "code",
   "execution_count": 8,
   "id": "c55ab4ab",
   "metadata": {},
   "outputs": [
    {
     "data": {
      "text/plain": [
       "0     DISSENY DE SOFTWARE EMPOTRAT PER TELEGESTIO SL\n",
       "1                                         EDUKEM-NOS\n",
       "2                      AMES BARCELONA SINTERING S.A.\n",
       "3                                VIASTORE SYSTEMS SA\n",
       "4                                       BROQUETAS SL\n",
       "5                                    PAL ROBOTICS SL\n",
       "6                                           LEARNICK\n",
       "7                             INFRAPLAN BARCELONA SL\n",
       "8                                      AIRA ROBÒTICA\n",
       "9                                              SITEP\n",
       "10                              EUREK TECHNOLOGY SL.\n",
       "11       INDUSTRIAS DE ESTAMPACION DEL CORTE FINO SL\n",
       "12                                          NIUEDUCA\n",
       "13                                       POLTANK SAU\n",
       "14                   HOLZMA PLATTENAUFTEILTECHNIK SA\n",
       "15                       DYNAMIND (MENTS DINÀMIQUES)\n",
       "16                                 MECANICAS DRAGUER\n",
       "17                             SOCIEDAD ANONIMA DAMM\n",
       "18                                     DIGIPROCES SA\n",
       "19                                        SOFTVIC SA\n",
       "Name: name, dtype: object"
      ]
     },
     "execution_count": 8,
     "metadata": {},
     "output_type": "execute_result"
    }
   ],
   "source": [
    "df_start['name'].head(20)"
   ]
  },
  {
   "cell_type": "code",
   "execution_count": 12,
   "id": "11c15842",
   "metadata": {},
   "outputs": [
    {
     "name": "stdout",
     "output_type": "stream",
     "text": [
      "<class 'pandas.core.frame.DataFrame'>\n",
      "Int64Index: 172 entries, 0 to 171\n",
      "Columns: 161 entries, Unnamed: 0 to _merge\n",
      "dtypes: category(1), float64(60), int64(35), object(65)\n",
      "memory usage: 216.6+ KB\n"
     ]
    }
   ],
   "source": [
    "df_name = pd.merge(df2, df_start, how = 'inner', left_on = 'ADN_RZS', right_on = 'name', indicator=True)\n",
    "df_name.info()"
   ]
  },
  {
   "cell_type": "code",
   "execution_count": 23,
   "id": "a12dcb80",
   "metadata": {},
   "outputs": [
    {
     "data": {
      "text/plain": [
       "0      DISSENY DE SOFTWARE EMPOTRAT PER TELEGESTIO SL\n",
       "1                                          EDUKEM-NOS\n",
       "8                                            LEARNICK\n",
       "10                                      AIRA ROBÒTICA\n",
       "11                                              SITEP\n",
       "                            ...                      \n",
       "312                    BEDDING INDUSTRIAL BEGUDA S.L.\n",
       "313         TECNICAL CENTRE TECNOLOGIC DE L'ANOIA, SA\n",
       "314                          LABORATORIOS ENTEMA, SLU\n",
       "315                                   INNOVA DIDACTIC\n",
       "316                        VOLTEC ELECTRO SISTEMES SL\n",
       "Name: name, Length: 145, dtype: object"
      ]
     },
     "execution_count": 23,
     "metadata": {},
     "output_type": "execute_result"
    }
   ],
   "source": [
    "unmerged_df = df_name[df_name['_merge'] == 'right_only']\n",
    "unmerged_df['name']"
   ]
  },
  {
   "cell_type": "code",
   "execution_count": 25,
   "id": "e1c60a72",
   "metadata": {},
   "outputs": [],
   "source": [
    "unmerged_df.to_excel('unmerged_robot.xlsx')"
   ]
  },
  {
   "cell_type": "code",
   "execution_count": 6,
   "id": "77674c08",
   "metadata": {},
   "outputs": [
    {
     "data": {
      "text/html": [
       "<div>\n",
       "<style scoped>\n",
       "    .dataframe tbody tr th:only-of-type {\n",
       "        vertical-align: middle;\n",
       "    }\n",
       "\n",
       "    .dataframe tbody tr th {\n",
       "        vertical-align: top;\n",
       "    }\n",
       "\n",
       "    .dataframe thead th {\n",
       "        text-align: right;\n",
       "    }\n",
       "</style>\n",
       "<table border=\"1\" class=\"dataframe\">\n",
       "  <thead>\n",
       "    <tr style=\"text-align: right;\">\n",
       "      <th></th>\n",
       "      <th>cnae</th>\n",
       "      <th>ADN_RZS</th>\n",
       "      <th>SECTOR_CNAE</th>\n",
       "      <th>ADN_SECTOR_SEC_N_COD</th>\n",
       "    </tr>\n",
       "  </thead>\n",
       "  <tbody>\n",
       "    <tr>\n",
       "      <th>0</th>\n",
       "      <td>2931 - Manufacture of electrical and electroni...</td>\n",
       "      <td>DENSO BARCELONA SA</td>\n",
       "      <td>2931 - Fabr. de equipos eléctricos y electróni...</td>\n",
       "      <td>2932,8299</td>\n",
       "    </tr>\n",
       "    <tr>\n",
       "      <th>1</th>\n",
       "      <td>2562 - Machining</td>\n",
       "      <td>INDUSTRIES RAVENTOS SA</td>\n",
       "      <td>2562 - Ingeniería mecánica por cuenta de terceros</td>\n",
       "      <td>6820</td>\n",
       "    </tr>\n",
       "    <tr>\n",
       "      <th>2</th>\n",
       "      <td>2899 - Manufacture of other special-purpose ma...</td>\n",
       "      <td>EUREK TECHNOLOGY SL.</td>\n",
       "      <td>3030 - Construcción aeronáutica y espacial y s...</td>\n",
       "      <td>7112</td>\n",
       "    </tr>\n",
       "    <tr>\n",
       "      <th>3</th>\n",
       "      <td>2899 - Manufacture of other special-purpose ma...</td>\n",
       "      <td>EUREK TECHNOLOGY SL.</td>\n",
       "      <td>3030 - Construcción aeronáutica y espacial y s...</td>\n",
       "      <td>7112</td>\n",
       "    </tr>\n",
       "    <tr>\n",
       "      <th>4</th>\n",
       "      <td>2849 - Manufacture of other machine tools</td>\n",
       "      <td>INTOREX SA</td>\n",
       "      <td>2849 - Fabr. de otras máquinas herramienta</td>\n",
       "      <td>NaN</td>\n",
       "    </tr>\n",
       "    <tr>\n",
       "      <th>5</th>\n",
       "      <td>4690 - Non-specialised wholesale trade/4669 - ...</td>\n",
       "      <td>AL TOP TOPOGRAFIA SA</td>\n",
       "      <td>4669 - Otra maquinaria y equipo</td>\n",
       "      <td>NaN</td>\n",
       "    </tr>\n",
       "    <tr>\n",
       "      <th>6</th>\n",
       "      <td>1102 - Manufacture of wine from grape</td>\n",
       "      <td>MASIA VALLFORMOSA SL</td>\n",
       "      <td>1102 - Elaboración de vinos</td>\n",
       "      <td>5610,6820</td>\n",
       "    </tr>\n",
       "    <tr>\n",
       "      <th>7</th>\n",
       "      <td>1102 - Manufacture of wine from grape</td>\n",
       "      <td>MASIA VALLFORMOSA SL</td>\n",
       "      <td>1102 - Elaboración de vinos</td>\n",
       "      <td>5610,6820</td>\n",
       "    </tr>\n",
       "    <tr>\n",
       "      <th>8</th>\n",
       "      <td>2611 - Manufacture of electronic components/71...</td>\n",
       "      <td>WETRON AUTOMATIZACION SA</td>\n",
       "      <td>2829 - Fabr. de otra maquinaria de uso general...</td>\n",
       "      <td>6202</td>\n",
       "    </tr>\n",
       "    <tr>\n",
       "      <th>9</th>\n",
       "      <td>2611 - Manufacture of electronic components/71...</td>\n",
       "      <td>WETRON AUTOMATIZACION SA</td>\n",
       "      <td>2829 - Fabr. de otra maquinaria de uso general...</td>\n",
       "      <td>6202</td>\n",
       "    </tr>\n",
       "  </tbody>\n",
       "</table>\n",
       "</div>"
      ],
      "text/plain": [
       "                                                cnae  \\\n",
       "0  2931 - Manufacture of electrical and electroni...   \n",
       "1                                   2562 - Machining   \n",
       "2  2899 - Manufacture of other special-purpose ma...   \n",
       "3  2899 - Manufacture of other special-purpose ma...   \n",
       "4          2849 - Manufacture of other machine tools   \n",
       "5  4690 - Non-specialised wholesale trade/4669 - ...   \n",
       "6              1102 - Manufacture of wine from grape   \n",
       "7              1102 - Manufacture of wine from grape   \n",
       "8  2611 - Manufacture of electronic components/71...   \n",
       "9  2611 - Manufacture of electronic components/71...   \n",
       "\n",
       "                    ADN_RZS  \\\n",
       "0        DENSO BARCELONA SA   \n",
       "1    INDUSTRIES RAVENTOS SA   \n",
       "2      EUREK TECHNOLOGY SL.   \n",
       "3      EUREK TECHNOLOGY SL.   \n",
       "4                INTOREX SA   \n",
       "5      AL TOP TOPOGRAFIA SA   \n",
       "6      MASIA VALLFORMOSA SL   \n",
       "7      MASIA VALLFORMOSA SL   \n",
       "8  WETRON AUTOMATIZACION SA   \n",
       "9  WETRON AUTOMATIZACION SA   \n",
       "\n",
       "                                         SECTOR_CNAE ADN_SECTOR_SEC_N_COD  \n",
       "0  2931 - Fabr. de equipos eléctricos y electróni...            2932,8299  \n",
       "1  2562 - Ingeniería mecánica por cuenta de terceros                 6820  \n",
       "2  3030 - Construcción aeronáutica y espacial y s...                 7112  \n",
       "3  3030 - Construcción aeronáutica y espacial y s...                 7112  \n",
       "4         2849 - Fabr. de otras máquinas herramienta                  NaN  \n",
       "5                    4669 - Otra maquinaria y equipo                  NaN  \n",
       "6                        1102 - Elaboración de vinos            5610,6820  \n",
       "7                        1102 - Elaboración de vinos            5610,6820  \n",
       "8  2829 - Fabr. de otra maquinaria de uso general...                 6202  \n",
       "9  2829 - Fabr. de otra maquinaria de uso general...                 6202  "
      ]
     },
     "execution_count": 6,
     "metadata": {},
     "output_type": "execute_result"
    }
   ],
   "source": [
    "df_name[['cnae','ADN_RZS','SECTOR_CNAE','ADN_SECTOR_SEC_N_COD']].head(10)"
   ]
  },
  {
   "cell_type": "code",
   "execution_count": null,
   "id": "0006903f",
   "metadata": {},
   "outputs": [],
   "source": [
    "def normalize_name(name):\n",
    "    # remove punctuation and convert to lowercase\n",
    "    name = name.replace(',', '').replace('.', '').replace(' SL', '').replace(' corp', '').replace(' llc', '').replace(' inc', '').replace(' co', '')\n",
    "    # split into words and sort them alphabetically\n",
    "    words = sorted(name.split())\n",
    "    # join the words back together into a single string\n",
    "    return ' '.join(words)\n",
    "\n",
    "# add normalized name columns to both dataframes\n",
    "df1['normalized_name'] = df1['company_name'].apply(normalize_name)\n",
    "df2['normalized_name'] = df2['company_name'].apply(normalize_name)"
   ]
  },
  {
   "cell_type": "code",
   "execution_count": 10,
   "id": "86e1c6ba",
   "metadata": {},
   "outputs": [],
   "source": [
    "df_iot = pd.read_csv('cti_iotsensor.csv')"
   ]
  },
  {
   "cell_type": "code",
   "execution_count": 16,
   "id": "8fb5d1e1",
   "metadata": {},
   "outputs": [
    {
     "name": "stdout",
     "output_type": "stream",
     "text": [
      "<class 'pandas.core.frame.DataFrame'>\n",
      "RangeIndex: 299 entries, 0 to 298\n",
      "Data columns (total 17 columns):\n",
      " #   Column        Non-Null Count  Dtype  \n",
      "---  ------        --------------  -----  \n",
      " 0   name          299 non-null    object \n",
      " 1   brief         299 non-null    object \n",
      " 2   branch        299 non-null    object \n",
      " 3   address       299 non-null    object \n",
      " 4   tel           281 non-null    float64\n",
      " 5   web           298 non-null    object \n",
      " 6   profile       299 non-null    object \n",
      " 7   tech          299 non-null    object \n",
      " 8   ducts         299 non-null    object \n",
      " 9   apps          296 non-null    object \n",
      " 10  cnae          299 non-null    object \n",
      " 11  est           299 non-null    object \n",
      " 12  turn          84 non-null     object \n",
      " 13  emp           87 non-null     object \n",
      " 14  info_added    299 non-null    object \n",
      " 15  municipality  299 non-null    object \n",
      " 16  post          299 non-null    int64  \n",
      "dtypes: float64(1), int64(1), object(15)\n",
      "memory usage: 39.8+ KB\n"
     ]
    }
   ],
   "source": [
    "df_iot['name']=df_iot['name']. apply(str. upper)\n",
    "df_iot.info()"
   ]
  },
  {
   "cell_type": "code",
   "execution_count": 17,
   "id": "48950314",
   "metadata": {},
   "outputs": [
    {
     "name": "stdout",
     "output_type": "stream",
     "text": [
      "<class 'pandas.core.frame.DataFrame'>\n",
      "Int64Index: 157 entries, 0 to 156\n",
      "Columns: 161 entries, Unnamed: 0 to _merge\n",
      "dtypes: category(1), float64(60), int64(35), object(65)\n",
      "memory usage: 197.8+ KB\n"
     ]
    }
   ],
   "source": [
    "df_name_2 = pd.merge(df2, df_iot, how = 'inner', left_on = 'ADN_RZS', right_on = 'name', indicator=True)\n",
    "df_name_2.info()"
   ]
  },
  {
   "cell_type": "code",
   "execution_count": 18,
   "id": "8f7dac63",
   "metadata": {},
   "outputs": [],
   "source": [
    "df_cir = pd.read_csv('cti_circular.csv')\n",
    "df_cir['name']=df_cir['name']. apply(str. upper)"
   ]
  },
  {
   "cell_type": "code",
   "execution_count": 20,
   "id": "f69f91e2",
   "metadata": {},
   "outputs": [
    {
     "name": "stdout",
     "output_type": "stream",
     "text": [
      "<class 'pandas.core.frame.DataFrame'>\n",
      "RangeIndex: 14 entries, 0 to 13\n",
      "Data columns (total 12 columns):\n",
      " #   Column        Non-Null Count  Dtype  \n",
      "---  ------        --------------  -----  \n",
      " 0   name          14 non-null     object \n",
      " 1   brief         14 non-null     object \n",
      " 2   branch        14 non-null     object \n",
      " 3   address       14 non-null     object \n",
      " 4   tel           13 non-null     float64\n",
      " 5   web           14 non-null     object \n",
      " 6   profile       14 non-null     object \n",
      " 7   tech          14 non-null     object \n",
      " 8   ducts         14 non-null     object \n",
      " 9   apps          14 non-null     object \n",
      " 10  municipality  14 non-null     object \n",
      " 11  post          14 non-null     int64  \n",
      "dtypes: float64(1), int64(1), object(10)\n",
      "memory usage: 1.4+ KB\n"
     ]
    }
   ],
   "source": [
    "df_cir.info()"
   ]
  },
  {
   "cell_type": "code",
   "execution_count": 19,
   "id": "671a6cf4",
   "metadata": {},
   "outputs": [
    {
     "name": "stdout",
     "output_type": "stream",
     "text": [
      "<class 'pandas.core.frame.DataFrame'>\n",
      "Int64Index: 21 entries, 0 to 20\n",
      "Columns: 156 entries, Unnamed: 0 to _merge\n",
      "dtypes: category(1), float64(60), int64(35), object(60)\n",
      "memory usage: 25.7+ KB\n"
     ]
    }
   ],
   "source": [
    "df_name_3 = pd.merge(df2, df_cir, how = 'inner', left_on = 'ADN_RZS', right_on = 'name', indicator=True)\n",
    "df_name_3.info()"
   ]
  },
  {
   "cell_type": "code",
   "execution_count": 24,
   "id": "3a9ffd4f",
   "metadata": {},
   "outputs": [
    {
     "data": {
      "text/html": [
       "<div>\n",
       "<style scoped>\n",
       "    .dataframe tbody tr th:only-of-type {\n",
       "        vertical-align: middle;\n",
       "    }\n",
       "\n",
       "    .dataframe tbody tr th {\n",
       "        vertical-align: top;\n",
       "    }\n",
       "\n",
       "    .dataframe thead th {\n",
       "        text-align: right;\n",
       "    }\n",
       "</style>\n",
       "<table border=\"1\" class=\"dataframe\">\n",
       "  <thead>\n",
       "    <tr style=\"text-align: right;\">\n",
       "      <th></th>\n",
       "      <th>ADN_RZS</th>\n",
       "      <th>SECTOR_CNAE</th>\n",
       "      <th>ADN_SECTOR_SEC_N_COD</th>\n",
       "      <th>name</th>\n",
       "      <th>ADN_OID_CENTRO</th>\n",
       "    </tr>\n",
       "  </thead>\n",
       "  <tbody>\n",
       "    <tr>\n",
       "      <th>0</th>\n",
       "      <td>VIELPA SA</td>\n",
       "      <td>2016 - Fabr. de plásticos en formas primarias</td>\n",
       "      <td>NaN</td>\n",
       "      <td>VIELPA SA</td>\n",
       "      <td>149261</td>\n",
       "    </tr>\n",
       "    <tr>\n",
       "      <th>1</th>\n",
       "      <td>PROMOTORA MEDITERRANEA 2 SA</td>\n",
       "      <td>2363 - Fabr. de hormigón fresco</td>\n",
       "      <td>0811,0812,2351,2361,2362,2370,3299,3519,3831,4...</td>\n",
       "      <td>PROMOTORA MEDITERRANEA 2 SA</td>\n",
       "      <td>14414284</td>\n",
       "    </tr>\n",
       "    <tr>\n",
       "      <th>2</th>\n",
       "      <td>PROMOTORA MEDITERRANEA 2 SA</td>\n",
       "      <td>2363 - Fabr. de hormigón fresco</td>\n",
       "      <td>0811,0812,2351,2361,2362,2370,3299,3519,3831,4...</td>\n",
       "      <td>PROMOTORA MEDITERRANEA 2 SA</td>\n",
       "      <td>14811547</td>\n",
       "    </tr>\n",
       "    <tr>\n",
       "      <th>3</th>\n",
       "      <td>PROMOTORA MEDITERRANEA 2 SA</td>\n",
       "      <td>2363 - Fabr. de hormigón fresco</td>\n",
       "      <td>0811,0812,2351,2361,2362,2370,3299,3519,3831,4...</td>\n",
       "      <td>PROMOTORA MEDITERRANEA 2 SA</td>\n",
       "      <td>14811548</td>\n",
       "    </tr>\n",
       "    <tr>\n",
       "      <th>4</th>\n",
       "      <td>PROMOTORA MEDITERRANEA 2 SA</td>\n",
       "      <td>2363 - Fabr. de hormigón fresco</td>\n",
       "      <td>0811,0812,2351,2361,2362,2370,3299,3519,3831,4...</td>\n",
       "      <td>PROMOTORA MEDITERRANEA 2 SA</td>\n",
       "      <td>10125588</td>\n",
       "    </tr>\n",
       "    <tr>\n",
       "      <th>5</th>\n",
       "      <td>PROMOTORA MEDITERRANEA 2 SA</td>\n",
       "      <td>2363 - Fabr. de hormigón fresco</td>\n",
       "      <td>0811,0812,2351,2361,2362,2370,3299,3519,3831,4...</td>\n",
       "      <td>PROMOTORA MEDITERRANEA 2 SA</td>\n",
       "      <td>10125584</td>\n",
       "    </tr>\n",
       "    <tr>\n",
       "      <th>6</th>\n",
       "      <td>PROMOTORA MEDITERRANEA 2 SA</td>\n",
       "      <td>2363 - Fabr. de hormigón fresco</td>\n",
       "      <td>0811,0812,2351,2361,2362,2370,3299,3519,3831,4...</td>\n",
       "      <td>PROMOTORA MEDITERRANEA 2 SA</td>\n",
       "      <td>10125581</td>\n",
       "    </tr>\n",
       "    <tr>\n",
       "      <th>7</th>\n",
       "      <td>PROMOTORA MEDITERRANEA 2 SA</td>\n",
       "      <td>2363 - Fabr. de hormigón fresco</td>\n",
       "      <td>0811,0812,2351,2361,2362,2370,3299,3519,3831,4...</td>\n",
       "      <td>PROMOTORA MEDITERRANEA 2 SA</td>\n",
       "      <td>11722263</td>\n",
       "    </tr>\n",
       "    <tr>\n",
       "      <th>8</th>\n",
       "      <td>PROMOTORA MEDITERRANEA 2 SA</td>\n",
       "      <td>2363 - Fabr. de hormigón fresco</td>\n",
       "      <td>0811,0812,2351,2361,2362,2370,3299,3519,3831,4...</td>\n",
       "      <td>PROMOTORA MEDITERRANEA 2 SA</td>\n",
       "      <td>10125586</td>\n",
       "    </tr>\n",
       "    <tr>\n",
       "      <th>9</th>\n",
       "      <td>PROMOTORA MEDITERRANEA 2 SA</td>\n",
       "      <td>2363 - Fabr. de hormigón fresco</td>\n",
       "      <td>0811,0812,2351,2361,2362,2370,3299,3519,3831,4...</td>\n",
       "      <td>PROMOTORA MEDITERRANEA 2 SA</td>\n",
       "      <td>12206526</td>\n",
       "    </tr>\n",
       "    <tr>\n",
       "      <th>10</th>\n",
       "      <td>PROMOTORA MEDITERRANEA 2 SA</td>\n",
       "      <td>2363 - Fabr. de hormigón fresco</td>\n",
       "      <td>0811,0812,2351,2361,2362,2370,3299,3519,3831,4...</td>\n",
       "      <td>PROMOTORA MEDITERRANEA 2 SA</td>\n",
       "      <td>76300</td>\n",
       "    </tr>\n",
       "    <tr>\n",
       "      <th>11</th>\n",
       "      <td>PROMOTORA MEDITERRANEA 2 SA</td>\n",
       "      <td>2363 - Fabr. de hormigón fresco</td>\n",
       "      <td>0811,0812,2351,2361,2362,2370,3299,3519,3831,4...</td>\n",
       "      <td>PROMOTORA MEDITERRANEA 2 SA</td>\n",
       "      <td>10125578</td>\n",
       "    </tr>\n",
       "    <tr>\n",
       "      <th>12</th>\n",
       "      <td>PROMOTORA MEDITERRANEA 2 SA</td>\n",
       "      <td>2363 - Fabr. de hormigón fresco</td>\n",
       "      <td>0811,0812,2351,2361,2362,2370,3299,3519,3831,4...</td>\n",
       "      <td>PROMOTORA MEDITERRANEA 2 SA</td>\n",
       "      <td>10125583</td>\n",
       "    </tr>\n",
       "    <tr>\n",
       "      <th>13</th>\n",
       "      <td>PROMOTORA MEDITERRANEA 2 SA</td>\n",
       "      <td>2363 - Fabr. de hormigón fresco</td>\n",
       "      <td>0811,0812,2351,2361,2362,2370,3299,3519,3831,4...</td>\n",
       "      <td>PROMOTORA MEDITERRANEA 2 SA</td>\n",
       "      <td>10125582</td>\n",
       "    </tr>\n",
       "    <tr>\n",
       "      <th>14</th>\n",
       "      <td>PROMOTORA MEDITERRANEA 2 SA</td>\n",
       "      <td>2363 - Fabr. de hormigón fresco</td>\n",
       "      <td>0811,0812,2351,2361,2362,2370,3299,3519,3831,4...</td>\n",
       "      <td>PROMOTORA MEDITERRANEA 2 SA</td>\n",
       "      <td>10125589</td>\n",
       "    </tr>\n",
       "    <tr>\n",
       "      <th>15</th>\n",
       "      <td>IRIS TECHNOLOGY SOLUTIONS S.L.</td>\n",
       "      <td>7219 - Otra investigación y desarrollo experim...</td>\n",
       "      <td>NaN</td>\n",
       "      <td>IRIS TECHNOLOGY SOLUTIONS S.L.</td>\n",
       "      <td>7795915</td>\n",
       "    </tr>\n",
       "    <tr>\n",
       "      <th>16</th>\n",
       "      <td>ONYRIQ LABS SL.</td>\n",
       "      <td>7219 - Otra investigación y desarrollo experim...</td>\n",
       "      <td>7112,7120</td>\n",
       "      <td>ONYRIQ LABS SL.</td>\n",
       "      <td>12631096</td>\n",
       "    </tr>\n",
       "    <tr>\n",
       "      <th>17</th>\n",
       "      <td>VOTTUN S.L.</td>\n",
       "      <td>6202 - Actividades de consultoría informática</td>\n",
       "      <td>8299</td>\n",
       "      <td>VOTTUN S.L.</td>\n",
       "      <td>13340680</td>\n",
       "    </tr>\n",
       "    <tr>\n",
       "      <th>18</th>\n",
       "      <td>EDENWAY SL</td>\n",
       "      <td>7022 - Otras actividades de consultoría de ges...</td>\n",
       "      <td>8299</td>\n",
       "      <td>EDENWAY SL</td>\n",
       "      <td>9821036</td>\n",
       "    </tr>\n",
       "    <tr>\n",
       "      <th>19</th>\n",
       "      <td>EDENWAY SL</td>\n",
       "      <td>7022 - Otras actividades de consultoría de ges...</td>\n",
       "      <td>8299</td>\n",
       "      <td>EDENWAY SL</td>\n",
       "      <td>12694384</td>\n",
       "    </tr>\n",
       "    <tr>\n",
       "      <th>20</th>\n",
       "      <td>EDENWAY SL</td>\n",
       "      <td>7022 - Otras actividades de consultoría de ges...</td>\n",
       "      <td>8299</td>\n",
       "      <td>EDENWAY SL</td>\n",
       "      <td>13714314</td>\n",
       "    </tr>\n",
       "  </tbody>\n",
       "</table>\n",
       "</div>"
      ],
      "text/plain": [
       "                           ADN_RZS  \\\n",
       "0                        VIELPA SA   \n",
       "1      PROMOTORA MEDITERRANEA 2 SA   \n",
       "2      PROMOTORA MEDITERRANEA 2 SA   \n",
       "3      PROMOTORA MEDITERRANEA 2 SA   \n",
       "4      PROMOTORA MEDITERRANEA 2 SA   \n",
       "5      PROMOTORA MEDITERRANEA 2 SA   \n",
       "6      PROMOTORA MEDITERRANEA 2 SA   \n",
       "7      PROMOTORA MEDITERRANEA 2 SA   \n",
       "8      PROMOTORA MEDITERRANEA 2 SA   \n",
       "9      PROMOTORA MEDITERRANEA 2 SA   \n",
       "10     PROMOTORA MEDITERRANEA 2 SA   \n",
       "11     PROMOTORA MEDITERRANEA 2 SA   \n",
       "12     PROMOTORA MEDITERRANEA 2 SA   \n",
       "13     PROMOTORA MEDITERRANEA 2 SA   \n",
       "14     PROMOTORA MEDITERRANEA 2 SA   \n",
       "15  IRIS TECHNOLOGY SOLUTIONS S.L.   \n",
       "16                 ONYRIQ LABS SL.   \n",
       "17                     VOTTUN S.L.   \n",
       "18                      EDENWAY SL   \n",
       "19                      EDENWAY SL   \n",
       "20                      EDENWAY SL   \n",
       "\n",
       "                                          SECTOR_CNAE  \\\n",
       "0       2016 - Fabr. de plásticos en formas primarias   \n",
       "1                     2363 - Fabr. de hormigón fresco   \n",
       "2                     2363 - Fabr. de hormigón fresco   \n",
       "3                     2363 - Fabr. de hormigón fresco   \n",
       "4                     2363 - Fabr. de hormigón fresco   \n",
       "5                     2363 - Fabr. de hormigón fresco   \n",
       "6                     2363 - Fabr. de hormigón fresco   \n",
       "7                     2363 - Fabr. de hormigón fresco   \n",
       "8                     2363 - Fabr. de hormigón fresco   \n",
       "9                     2363 - Fabr. de hormigón fresco   \n",
       "10                    2363 - Fabr. de hormigón fresco   \n",
       "11                    2363 - Fabr. de hormigón fresco   \n",
       "12                    2363 - Fabr. de hormigón fresco   \n",
       "13                    2363 - Fabr. de hormigón fresco   \n",
       "14                    2363 - Fabr. de hormigón fresco   \n",
       "15  7219 - Otra investigación y desarrollo experim...   \n",
       "16  7219 - Otra investigación y desarrollo experim...   \n",
       "17      6202 - Actividades de consultoría informática   \n",
       "18  7022 - Otras actividades de consultoría de ges...   \n",
       "19  7022 - Otras actividades de consultoría de ges...   \n",
       "20  7022 - Otras actividades de consultoría de ges...   \n",
       "\n",
       "                                 ADN_SECTOR_SEC_N_COD  \\\n",
       "0                                                 NaN   \n",
       "1   0811,0812,2351,2361,2362,2370,3299,3519,3831,4...   \n",
       "2   0811,0812,2351,2361,2362,2370,3299,3519,3831,4...   \n",
       "3   0811,0812,2351,2361,2362,2370,3299,3519,3831,4...   \n",
       "4   0811,0812,2351,2361,2362,2370,3299,3519,3831,4...   \n",
       "5   0811,0812,2351,2361,2362,2370,3299,3519,3831,4...   \n",
       "6   0811,0812,2351,2361,2362,2370,3299,3519,3831,4...   \n",
       "7   0811,0812,2351,2361,2362,2370,3299,3519,3831,4...   \n",
       "8   0811,0812,2351,2361,2362,2370,3299,3519,3831,4...   \n",
       "9   0811,0812,2351,2361,2362,2370,3299,3519,3831,4...   \n",
       "10  0811,0812,2351,2361,2362,2370,3299,3519,3831,4...   \n",
       "11  0811,0812,2351,2361,2362,2370,3299,3519,3831,4...   \n",
       "12  0811,0812,2351,2361,2362,2370,3299,3519,3831,4...   \n",
       "13  0811,0812,2351,2361,2362,2370,3299,3519,3831,4...   \n",
       "14  0811,0812,2351,2361,2362,2370,3299,3519,3831,4...   \n",
       "15                                                NaN   \n",
       "16                                          7112,7120   \n",
       "17                                               8299   \n",
       "18                                               8299   \n",
       "19                                               8299   \n",
       "20                                               8299   \n",
       "\n",
       "                              name  ADN_OID_CENTRO  \n",
       "0                        VIELPA SA          149261  \n",
       "1      PROMOTORA MEDITERRANEA 2 SA        14414284  \n",
       "2      PROMOTORA MEDITERRANEA 2 SA        14811547  \n",
       "3      PROMOTORA MEDITERRANEA 2 SA        14811548  \n",
       "4      PROMOTORA MEDITERRANEA 2 SA        10125588  \n",
       "5      PROMOTORA MEDITERRANEA 2 SA        10125584  \n",
       "6      PROMOTORA MEDITERRANEA 2 SA        10125581  \n",
       "7      PROMOTORA MEDITERRANEA 2 SA        11722263  \n",
       "8      PROMOTORA MEDITERRANEA 2 SA        10125586  \n",
       "9      PROMOTORA MEDITERRANEA 2 SA        12206526  \n",
       "10     PROMOTORA MEDITERRANEA 2 SA           76300  \n",
       "11     PROMOTORA MEDITERRANEA 2 SA        10125578  \n",
       "12     PROMOTORA MEDITERRANEA 2 SA        10125583  \n",
       "13     PROMOTORA MEDITERRANEA 2 SA        10125582  \n",
       "14     PROMOTORA MEDITERRANEA 2 SA        10125589  \n",
       "15  IRIS TECHNOLOGY SOLUTIONS S.L.         7795915  \n",
       "16                 ONYRIQ LABS SL.        12631096  \n",
       "17                     VOTTUN S.L.        13340680  \n",
       "18                      EDENWAY SL         9821036  \n",
       "19                      EDENWAY SL        12694384  \n",
       "20                      EDENWAY SL        13714314  "
      ]
     },
     "execution_count": 24,
     "metadata": {},
     "output_type": "execute_result"
    }
   ],
   "source": [
    "df_name_3[['ADN_RZS','SECTOR_CNAE','ADN_SECTOR_SEC_N_COD', 'name','ADN_OID_CENTRO']]"
   ]
  },
  {
   "cell_type": "code",
   "execution_count": 25,
   "id": "4a15471d",
   "metadata": {},
   "outputs": [
    {
     "name": "stdout",
     "output_type": "stream",
     "text": [
      "<class 'pandas.core.frame.DataFrame'>\n",
      "RangeIndex: 210 entries, 0 to 209\n",
      "Data columns (total 17 columns):\n",
      " #   Column        Non-Null Count  Dtype  \n",
      "---  ------        --------------  -----  \n",
      " 0   name          210 non-null    object \n",
      " 1   brief         210 non-null    object \n",
      " 2   branch        210 non-null    object \n",
      " 3   address       210 non-null    object \n",
      " 4   tel           200 non-null    float64\n",
      " 5   web           209 non-null    object \n",
      " 6   profile       210 non-null    object \n",
      " 7   tech          210 non-null    object \n",
      " 8   ducts         210 non-null    object \n",
      " 9   apps          210 non-null    object \n",
      " 10  cnae          210 non-null    object \n",
      " 11  est           210 non-null    object \n",
      " 12  turn          114 non-null    object \n",
      " 13  emp           115 non-null    object \n",
      " 14  info_added    210 non-null    object \n",
      " 15  municipality  210 non-null    object \n",
      " 16  post          210 non-null    int64  \n",
      "dtypes: float64(1), int64(1), object(15)\n",
      "memory usage: 28.0+ KB\n"
     ]
    }
   ],
   "source": [
    "df_add = pd.read_csv('cti_addman.csv')\n",
    "df_add['name']=df_add['name']. apply(str. upper)\n",
    "df_add.info()"
   ]
  },
  {
   "cell_type": "code",
   "execution_count": 26,
   "id": "f82d9501",
   "metadata": {},
   "outputs": [
    {
     "name": "stdout",
     "output_type": "stream",
     "text": [
      "<class 'pandas.core.frame.DataFrame'>\n",
      "Int64Index: 117 entries, 0 to 116\n",
      "Columns: 161 entries, Unnamed: 0 to _merge\n",
      "dtypes: category(1), float64(60), int64(35), object(65)\n",
      "memory usage: 147.4+ KB\n"
     ]
    }
   ],
   "source": [
    "df_name_4 = pd.merge(df2, df_add, how = 'inner', left_on = 'ADN_RZS', right_on = 'name', indicator=True)\n",
    "df_name_4.info()"
   ]
  },
  {
   "cell_type": "code",
   "execution_count": 27,
   "id": "057efc8b",
   "metadata": {},
   "outputs": [],
   "source": [
    "df_ad = pd.concat([df_name, df_name_2, df_name_3, df_name_4])"
   ]
  },
  {
   "cell_type": "code",
   "execution_count": 28,
   "id": "0803f3bb",
   "metadata": {},
   "outputs": [],
   "source": [
    "df_ad.to_csv('scraped_advanced_industry.csv')"
   ]
  },
  {
   "cell_type": "code",
   "execution_count": null,
   "id": "816e768b",
   "metadata": {},
   "outputs": [],
   "source": []
  }
 ],
 "metadata": {
  "kernelspec": {
   "display_name": "Python 3 (ipykernel)",
   "language": "python",
   "name": "python3"
  },
  "language_info": {
   "codemirror_mode": {
    "name": "ipython",
    "version": 3
   },
   "file_extension": ".py",
   "mimetype": "text/x-python",
   "name": "python",
   "nbconvert_exporter": "python",
   "pygments_lexer": "ipython3",
   "version": "3.9.12"
  }
 },
 "nbformat": 4,
 "nbformat_minor": 5
}
