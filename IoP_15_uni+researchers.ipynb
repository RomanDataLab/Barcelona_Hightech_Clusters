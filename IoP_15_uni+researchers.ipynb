{
 "cells": [
  {
   "cell_type": "code",
   "execution_count": 1,
   "id": "f776568d",
   "metadata": {},
   "outputs": [],
   "source": [
    "import pandas as pd\n",
    "import geocoder"
   ]
  },
  {
   "cell_type": "code",
   "execution_count": 2,
   "id": "be53d8d8",
   "metadata": {},
   "outputs": [
    {
     "data": {
      "text/html": [
       "<div>\n",
       "<style scoped>\n",
       "    .dataframe tbody tr th:only-of-type {\n",
       "        vertical-align: middle;\n",
       "    }\n",
       "\n",
       "    .dataframe tbody tr th {\n",
       "        vertical-align: top;\n",
       "    }\n",
       "\n",
       "    .dataframe thead th {\n",
       "        text-align: right;\n",
       "    }\n",
       "</style>\n",
       "<table border=\"1\" class=\"dataframe\">\n",
       "  <thead>\n",
       "    <tr style=\"text-align: right;\">\n",
       "      <th></th>\n",
       "      <th>_id</th>\n",
       "      <th>name</th>\n",
       "      <th>orcid</th>\n",
       "      <th>ruct</th>\n",
       "      <th>signatureName</th>\n",
       "      <th>sourceid</th>\n",
       "      <th>timestamp</th>\n",
       "    </tr>\n",
       "  </thead>\n",
       "  <tbody>\n",
       "    <tr>\n",
       "      <th>0</th>\n",
       "      <td>062-23870381412</td>\n",
       "      <td>Navarro Martinez, Lourdes</td>\n",
       "      <td>0000-0001-7314-8805</td>\n",
       "      <td>Universitat Internacional de Catalunya</td>\n",
       "      <td>Navarro, L.</td>\n",
       "      <td>062-23870381412</td>\n",
       "      <td>16/02/2023</td>\n",
       "    </tr>\n",
       "    <tr>\n",
       "      <th>1</th>\n",
       "      <td>08070672-PERSIMIM43065</td>\n",
       "      <td>Centeno Ortiz, Emilio</td>\n",
       "      <td>0000-0003-2798-978X</td>\n",
       "      <td>Institut Hospital del Mar d'Investigacions Mèd...</td>\n",
       "      <td>Centeno, E</td>\n",
       "      <td>08070672-PERSIMIM43065</td>\n",
       "      <td>16/02/2023</td>\n",
       "    </tr>\n",
       "    <tr>\n",
       "      <th>2</th>\n",
       "      <td>043-UDG-05000144</td>\n",
       "      <td>Cañabate Ortiz, Maria Dolores</td>\n",
       "      <td>0000-0003-2526-9818</td>\n",
       "      <td>Universitat de Girona</td>\n",
       "      <td>NaN</td>\n",
       "      <td>043-UDG-05000144</td>\n",
       "      <td>16/02/2023</td>\n",
       "    </tr>\n",
       "    <tr>\n",
       "      <th>3</th>\n",
       "      <td>044-UDL-07005809</td>\n",
       "      <td>Centelles Soler, Xavier</td>\n",
       "      <td>0000-0003-4173-4556</td>\n",
       "      <td>Universitat de Lleida,Universitat Politècnica ...</td>\n",
       "      <td>NaN</td>\n",
       "      <td>044-UDL-07005809,024-58654374912</td>\n",
       "      <td>16/02/2023</td>\n",
       "    </tr>\n",
       "    <tr>\n",
       "      <th>4</th>\n",
       "      <td>024-27402070940</td>\n",
       "      <td>Garcia Garcia, Jose Eduardo</td>\n",
       "      <td>0000-0002-1232-1739</td>\n",
       "      <td>Universitat Politècnica de Catalunya</td>\n",
       "      <td>Garcia, J. E.</td>\n",
       "      <td>024-27402070940</td>\n",
       "      <td>16/02/2023</td>\n",
       "    </tr>\n",
       "  </tbody>\n",
       "</table>\n",
       "</div>"
      ],
      "text/plain": [
       "                      _id                           name                orcid  \\\n",
       "0         062-23870381412      Navarro Martinez, Lourdes  0000-0001-7314-8805   \n",
       "1  08070672-PERSIMIM43065          Centeno Ortiz, Emilio  0000-0003-2798-978X   \n",
       "2        043-UDG-05000144  Cañabate Ortiz, Maria Dolores  0000-0003-2526-9818   \n",
       "3        044-UDL-07005809        Centelles Soler, Xavier  0000-0003-4173-4556   \n",
       "4         024-27402070940    Garcia Garcia, Jose Eduardo  0000-0002-1232-1739   \n",
       "\n",
       "                                                ruct  signatureName  \\\n",
       "0             Universitat Internacional de Catalunya    Navarro, L.   \n",
       "1  Institut Hospital del Mar d'Investigacions Mèd...     Centeno, E   \n",
       "2                              Universitat de Girona            NaN   \n",
       "3  Universitat de Lleida,Universitat Politècnica ...            NaN   \n",
       "4               Universitat Politècnica de Catalunya  Garcia, J. E.   \n",
       "\n",
       "                           sourceid   timestamp  \n",
       "0                   062-23870381412  16/02/2023  \n",
       "1            08070672-PERSIMIM43065  16/02/2023  \n",
       "2                  043-UDG-05000144  16/02/2023  \n",
       "3  044-UDL-07005809,024-58654374912  16/02/2023  \n",
       "4                   024-27402070940  16/02/2023  "
      ]
     },
     "execution_count": 2,
     "metadata": {},
     "output_type": "execute_result"
    }
   ],
   "source": [
    "#read scraped file\n",
    "df = pd.read_csv(r'C:\\WORK_IAAC\\submissions\\Internet of People\\IoP_WIP\\QGIS_data\\for_clusteranalysis\\Investigadors_es_de_Catalunya.csv')\n",
    "df.head()"
   ]
  },
  {
   "cell_type": "code",
   "execution_count": 3,
   "id": "62bfc79b",
   "metadata": {},
   "outputs": [
    {
     "name": "stdout",
     "output_type": "stream",
     "text": [
      "<class 'pandas.core.frame.DataFrame'>\n",
      "RangeIndex: 204231 entries, 0 to 204230\n",
      "Data columns (total 7 columns):\n",
      " #   Column         Non-Null Count   Dtype \n",
      "---  ------         --------------   ----- \n",
      " 0   _id            204231 non-null  object\n",
      " 1   name           204231 non-null  object\n",
      " 2   orcid          204231 non-null  object\n",
      " 3   ruct           204231 non-null  object\n",
      " 4   signatureName  91577 non-null   object\n",
      " 5   sourceid       204231 non-null  object\n",
      " 6   timestamp      204231 non-null  object\n",
      "dtypes: object(7)\n",
      "memory usage: 10.9+ MB\n"
     ]
    }
   ],
   "source": [
    "df.info()"
   ]
  },
  {
   "cell_type": "code",
   "execution_count": 7,
   "id": "d825a7d7",
   "metadata": {},
   "outputs": [
    {
     "data": {
      "text/plain": [
       "array(['Universitat Internacional de Catalunya',\n",
       "       \"Institut Hospital del Mar d'Investigacions Mèdiques\",\n",
       "       'Universitat de Girona', ...,\n",
       "       \"Valle de Hebrón Instituto de Investigación (VHIR),Institut d'Investigació en Ciències de la Salut Germans Trias i Pujol,Universidad Pompeu Fabra\",\n",
       "       'Instituto de Investigación y Tecnología Agroalimentaria (IRTA),Centre de Ciència i Tecnologia Forestal de Catalunya,Instituto de Investigación del Hospital de la Santa Creu i Sant Pau',\n",
       "       'Universidad de Barcelona,Instituto de Investigación Biomédica de Bellvitge (IDIBELL),Institut de Recerca Contra la Leucèmia Josep Carreras'],\n",
       "      dtype=object)"
      ]
     },
     "execution_count": 7,
     "metadata": {},
     "output_type": "execute_result"
    }
   ],
   "source": [
    "df['ruct'].unique()"
   ]
  },
  {
   "cell_type": "code",
   "execution_count": 8,
   "id": "258c841e",
   "metadata": {},
   "outputs": [
    {
     "data": {
      "text/plain": [
       "1126"
      ]
     },
     "execution_count": 8,
     "metadata": {},
     "output_type": "execute_result"
    }
   ],
   "source": [
    "df['ruct'].drop_duplicates().shape[0]"
   ]
  },
  {
   "cell_type": "code",
   "execution_count": 10,
   "id": "f200c5e5",
   "metadata": {},
   "outputs": [
    {
     "data": {
      "text/plain": [
       "1126"
      ]
     },
     "execution_count": 10,
     "metadata": {},
     "output_type": "execute_result"
    }
   ],
   "source": [
    "df['ruct'].nunique()"
   ]
  },
  {
   "cell_type": "code",
   "execution_count": 13,
   "id": "793f14f3",
   "metadata": {},
   "outputs": [
    {
     "data": {
      "text/plain": [
       "array(['Universitat Internacional de Catalunya',\n",
       "       \"Institut Hospital del Mar d'Investigacions Mèdiques\",\n",
       "       'Universitat de Girona', ...,\n",
       "       \"Valle de Hebrón Instituto de Investigación (VHIR),Institut d'Investigació en Ciències de la Salut Germans Trias i Pujol,Universidad Pompeu Fabra\",\n",
       "       'Instituto de Investigación y Tecnología Agroalimentaria (IRTA),Centre de Ciència i Tecnologia Forestal de Catalunya,Instituto de Investigación del Hospital de la Santa Creu i Sant Pau',\n",
       "       'Universidad de Barcelona,Instituto de Investigación Biomédica de Bellvitge (IDIBELL),Institut de Recerca Contra la Leucèmia Josep Carreras'],\n",
       "      dtype=object)"
      ]
     },
     "execution_count": 13,
     "metadata": {},
     "output_type": "execute_result"
    }
   ],
   "source": [
    "df['ruct'].unique()"
   ]
  },
  {
   "cell_type": "code",
   "execution_count": 14,
   "id": "223bf2ec",
   "metadata": {},
   "outputs": [
    {
     "data": {
      "text/html": [
       "<div>\n",
       "<style scoped>\n",
       "    .dataframe tbody tr th:only-of-type {\n",
       "        vertical-align: middle;\n",
       "    }\n",
       "\n",
       "    .dataframe tbody tr th {\n",
       "        vertical-align: top;\n",
       "    }\n",
       "\n",
       "    .dataframe thead th {\n",
       "        text-align: right;\n",
       "    }\n",
       "</style>\n",
       "<table border=\"1\" class=\"dataframe\">\n",
       "  <thead>\n",
       "    <tr style=\"text-align: right;\">\n",
       "      <th></th>\n",
       "      <th>uni</th>\n",
       "      <th>researchers</th>\n",
       "    </tr>\n",
       "  </thead>\n",
       "  <tbody>\n",
       "    <tr>\n",
       "      <th>0</th>\n",
       "      <td>Universitat Internacional de Catalunya</td>\n",
       "      <td>3465</td>\n",
       "    </tr>\n",
       "    <tr>\n",
       "      <th>1</th>\n",
       "      <td>Institut Hospital del Mar d'Investigacions Mèd...</td>\n",
       "      <td>2562</td>\n",
       "    </tr>\n",
       "    <tr>\n",
       "      <th>2</th>\n",
       "      <td>Universitat de Girona</td>\n",
       "      <td>5908</td>\n",
       "    </tr>\n",
       "    <tr>\n",
       "      <th>3</th>\n",
       "      <td>Universitat de Lleida,Universitat Politècnica ...</td>\n",
       "      <td>6</td>\n",
       "    </tr>\n",
       "    <tr>\n",
       "      <th>4</th>\n",
       "      <td>Universitat Politècnica de Catalunya</td>\n",
       "      <td>14486</td>\n",
       "    </tr>\n",
       "  </tbody>\n",
       "</table>\n",
       "</div>"
      ],
      "text/plain": [
       "                                                 uni  researchers\n",
       "0             Universitat Internacional de Catalunya         3465\n",
       "1  Institut Hospital del Mar d'Investigacions Mèd...         2562\n",
       "2                              Universitat de Girona         5908\n",
       "3  Universitat de Lleida,Universitat Politècnica ...            6\n",
       "4               Universitat Politècnica de Catalunya        14486"
      ]
     },
     "execution_count": 14,
     "metadata": {},
     "output_type": "execute_result"
    }
   ],
   "source": [
    "# create a new dataframe with the unique values and their counts\n",
    "df2 = pd.DataFrame({'uni': df['ruct'].unique(),\n",
    "                    'researchers': [df[df['ruct']==v]['ruct'].count() for v in df['ruct'].unique()]})\n",
    "\n",
    "df2.head()"
   ]
  },
  {
   "cell_type": "code",
   "execution_count": 15,
   "id": "eabf146b",
   "metadata": {},
   "outputs": [
    {
     "name": "stdout",
     "output_type": "stream",
     "text": [
      "<class 'pandas.core.frame.DataFrame'>\n",
      "RangeIndex: 1126 entries, 0 to 1125\n",
      "Data columns (total 2 columns):\n",
      " #   Column       Non-Null Count  Dtype \n",
      "---  ------       --------------  ----- \n",
      " 0   uni          1126 non-null   object\n",
      " 1   researchers  1126 non-null   int64 \n",
      "dtypes: int64(1), object(1)\n",
      "memory usage: 17.7+ KB\n"
     ]
    }
   ],
   "source": [
    "df2.info()"
   ]
  },
  {
   "cell_type": "code",
   "execution_count": 16,
   "id": "184bd928",
   "metadata": {},
   "outputs": [
    {
     "data": {
      "text/html": [
       "<div>\n",
       "<style scoped>\n",
       "    .dataframe tbody tr th:only-of-type {\n",
       "        vertical-align: middle;\n",
       "    }\n",
       "\n",
       "    .dataframe tbody tr th {\n",
       "        vertical-align: top;\n",
       "    }\n",
       "\n",
       "    .dataframe thead th {\n",
       "        text-align: right;\n",
       "    }\n",
       "</style>\n",
       "<table border=\"1\" class=\"dataframe\">\n",
       "  <thead>\n",
       "    <tr style=\"text-align: right;\">\n",
       "      <th></th>\n",
       "      <th>uni</th>\n",
       "      <th>researchers</th>\n",
       "      <th>Latitude</th>\n",
       "      <th>Longitude</th>\n",
       "    </tr>\n",
       "  </thead>\n",
       "  <tbody>\n",
       "    <tr>\n",
       "      <th>0</th>\n",
       "      <td>Universitat Internacional de Catalunya</td>\n",
       "      <td>3465</td>\n",
       "      <td>41.067750</td>\n",
       "      <td>1.091650</td>\n",
       "    </tr>\n",
       "    <tr>\n",
       "      <th>1</th>\n",
       "      <td>Institut Hospital del Mar d'Investigacions Mèd...</td>\n",
       "      <td>2562</td>\n",
       "      <td>43.400170</td>\n",
       "      <td>-4.008460</td>\n",
       "    </tr>\n",
       "    <tr>\n",
       "      <th>2</th>\n",
       "      <td>Universitat de Girona</td>\n",
       "      <td>5908</td>\n",
       "      <td>41.962081</td>\n",
       "      <td>2.832343</td>\n",
       "    </tr>\n",
       "    <tr>\n",
       "      <th>3</th>\n",
       "      <td>Universitat de Lleida,Universitat Politècnica ...</td>\n",
       "      <td>6</td>\n",
       "      <td>41.388690</td>\n",
       "      <td>2.116030</td>\n",
       "    </tr>\n",
       "    <tr>\n",
       "      <th>4</th>\n",
       "      <td>Universitat Politècnica de Catalunya</td>\n",
       "      <td>14486</td>\n",
       "      <td>41.388690</td>\n",
       "      <td>2.116030</td>\n",
       "    </tr>\n",
       "  </tbody>\n",
       "</table>\n",
       "</div>"
      ],
      "text/plain": [
       "                                                 uni  researchers   Latitude  \\\n",
       "0             Universitat Internacional de Catalunya         3465  41.067750   \n",
       "1  Institut Hospital del Mar d'Investigacions Mèd...         2562  43.400170   \n",
       "2                              Universitat de Girona         5908  41.962081   \n",
       "3  Universitat de Lleida,Universitat Politècnica ...            6  41.388690   \n",
       "4               Universitat Politècnica de Catalunya        14486  41.388690   \n",
       "\n",
       "   Longitude  \n",
       "0   1.091650  \n",
       "1  -4.008460  \n",
       "2   2.832343  \n",
       "3   2.116030  \n",
       "4   2.116030  "
      ]
     },
     "execution_count": 16,
     "metadata": {},
     "output_type": "execute_result"
    }
   ],
   "source": [
    "# define a function to get the coordinates for each institution\n",
    "def get_coordinates(row):\n",
    "    institution = row['uni']\n",
    "    g = geocoder.arcgis(institution + ', Spain')\n",
    "    return pd.Series({'Latitude': g.lat, 'Longitude': g.lng})\n",
    "\n",
    "# apply the function to each row of the dataframe\n",
    "df2[['Latitude', 'Longitude']] = df2.apply(get_coordinates, axis=1)\n",
    "df2.head()"
   ]
  },
  {
   "cell_type": "code",
   "execution_count": 17,
   "id": "31aebd7f",
   "metadata": {},
   "outputs": [],
   "source": [
    "df2.to_csv(r'C:\\WORK_IAAC\\submissions\\Internet of People\\IoP_WIP\\QGIS_data\\uni.csv',index=False)"
   ]
  },
  {
   "cell_type": "code",
   "execution_count": 18,
   "id": "d7df9ba6",
   "metadata": {},
   "outputs": [
    {
     "name": "stderr",
     "output_type": "stream",
     "text": [
      "C:\\Users\\rromu\\AppData\\Local\\Temp\\ipykernel_12740\\2255675034.py:2: DtypeWarning: Columns (3,15,16,17,18) have mixed types. Specify dtype option on import or set low_memory=False.\n",
      "  dx = pd.read_csv(r'C:\\WORK_IAAC\\submissions\\Internet of People\\IoP_WIP\\QGIS_data\\for_clusteranalysis\\Projectes_de_recerca_de_Catalunya.csv')\n"
     ]
    },
    {
     "data": {
      "text/html": [
       "<div>\n",
       "<style scoped>\n",
       "    .dataframe tbody tr th:only-of-type {\n",
       "        vertical-align: middle;\n",
       "    }\n",
       "\n",
       "    .dataframe tbody tr th {\n",
       "        vertical-align: top;\n",
       "    }\n",
       "\n",
       "    .dataframe thead th {\n",
       "        text-align: right;\n",
       "    }\n",
       "</style>\n",
       "<table border=\"1\" class=\"dataframe\">\n",
       "  <thead>\n",
       "    <tr style=\"text-align: right;\">\n",
       "      <th></th>\n",
       "      <th>_id</th>\n",
       "      <th>officialCode</th>\n",
       "      <th>title</th>\n",
       "      <th>url</th>\n",
       "      <th>code</th>\n",
       "      <th>programme</th>\n",
       "      <th>startDate</th>\n",
       "      <th>endDate</th>\n",
       "      <th>principalResearchers</th>\n",
       "      <th>otherResearchers</th>\n",
       "      <th>uncheckedPrincipalInvestigator</th>\n",
       "      <th>uncheckedCoInvestigator</th>\n",
       "      <th>ruct</th>\n",
       "      <th>sourceid</th>\n",
       "      <th>timestamp</th>\n",
       "      <th>orcidPrincipalResearchers</th>\n",
       "      <th>orcidOtherResearchers</th>\n",
       "      <th>orcidUncheckedPrincipalInvestigator</th>\n",
       "      <th>orcidUncheckedCoInvestigator</th>\n",
       "    </tr>\n",
       "  </thead>\n",
       "  <tbody>\n",
       "    <tr>\n",
       "      <th>0</th>\n",
       "      <td>044-UDL-PJ000271</td>\n",
       "      <td>ALI96-0567</td>\n",
       "      <td>(un) - Mejora de la calidad de la fruta de pep...</td>\n",
       "      <td>http://webgrec.udl.cat/cgi-bin/3DADREC/critem....</td>\n",
       "      <td>271</td>\n",
       "      <td>Convocatòria en el marc del Pla Nacional d'Inv...</td>\n",
       "      <td>01/07/1996</td>\n",
       "      <td>30/06/1999</td>\n",
       "      <td>Viñas Almenar, M. Inmaculada C.</td>\n",
       "      <td>Fons Sole, Estanislau</td>\n",
       "      <td>NaN</td>\n",
       "      <td>NaN</td>\n",
       "      <td>Universidad de Lleida</td>\n",
       "      <td>044-UDL-PJ000271</td>\n",
       "      <td>16/06/2021</td>\n",
       "      <td>NaN</td>\n",
       "      <td>NaN</td>\n",
       "      <td>NaN</td>\n",
       "      <td>NaN</td>\n",
       "    </tr>\n",
       "    <tr>\n",
       "      <th>1</th>\n",
       "      <td>022-8c66acb8-dc1c-4548-957f-c400dc16db11</td>\n",
       "      <td>PNL2005-34</td>\n",
       "      <td>(es) - Anàlisi d'elements traça per a la recon...</td>\n",
       "      <td>NaN</td>\n",
       "      <td>46996168</td>\n",
       "      <td>Programes UAB</td>\n",
       "      <td>28/05/2005</td>\n",
       "      <td>28/05/2007</td>\n",
       "      <td>Mortyn, Peter Graham</td>\n",
       "      <td>Pelachs Mañosa, Albert</td>\n",
       "      <td>NaN</td>\n",
       "      <td>Molina Gallart, David</td>\n",
       "      <td>Universidad Autónoma de Barcelona</td>\n",
       "      <td>022-8c66acb8-dc1c-4548-957f-c400dc16db11</td>\n",
       "      <td>16/06/2021</td>\n",
       "      <td>NaN</td>\n",
       "      <td>NaN</td>\n",
       "      <td>NaN</td>\n",
       "      <td>NaN</td>\n",
       "    </tr>\n",
       "    <tr>\n",
       "      <th>2</th>\n",
       "      <td>004-UB-PE002530</td>\n",
       "      <td>765297</td>\n",
       "      <td>(un) - Network of Functional Molecular Contain...</td>\n",
       "      <td>https://webgrec.ub.edu/cgi-bin/3DADREC/critem....</td>\n",
       "      <td>2530</td>\n",
       "      <td>HORIZON 2020 (2014-2020). P1. MARIE SKŁODOWSKA...</td>\n",
       "      <td>06/05/2019</td>\n",
       "      <td>31/03/2022</td>\n",
       "      <td>Barril Alonso, Xavier</td>\n",
       "      <td>NaN</td>\n",
       "      <td>NaN</td>\n",
       "      <td>Serillon, Dylan Leo</td>\n",
       "      <td>Universidad de Barcelona</td>\n",
       "      <td>004-UB-PE002530</td>\n",
       "      <td>16/06/2021</td>\n",
       "      <td>NaN</td>\n",
       "      <td>NaN</td>\n",
       "      <td>NaN</td>\n",
       "      <td>NaN</td>\n",
       "    </tr>\n",
       "    <tr>\n",
       "      <th>3</th>\n",
       "      <td>044-UDL-PJ001278</td>\n",
       "      <td>NaN</td>\n",
       "      <td>(un) - Noves Tecnologies per a nous reptes en ...</td>\n",
       "      <td>http://webgrec.udl.cat/cgi-bin/3DADREC/critem....</td>\n",
       "      <td>1278</td>\n",
       "      <td>Convocatòria d'ajuts per a projectes d'innovac...</td>\n",
       "      <td>01/09/2004</td>\n",
       "      <td>30/06/2005</td>\n",
       "      <td>Sole Castells, Cristina</td>\n",
       "      <td>Figuerola Cabrol, Ma. Carmen</td>\n",
       "      <td>NaN</td>\n",
       "      <td>Parra Alba, Montserrat</td>\n",
       "      <td>Universidad de Lleida</td>\n",
       "      <td>044-UDL-PJ001278</td>\n",
       "      <td>16/06/2021</td>\n",
       "      <td>NaN</td>\n",
       "      <td>NaN</td>\n",
       "      <td>NaN</td>\n",
       "      <td>NaN</td>\n",
       "    </tr>\n",
       "    <tr>\n",
       "      <th>4</th>\n",
       "      <td>042-URV-P17131</td>\n",
       "      <td>2017PFR-URV-B2-64</td>\n",
       "      <td>(un) - Research on Language and Linguistics Ac...</td>\n",
       "      <td>NaN</td>\n",
       "      <td>17131</td>\n",
       "      <td>Programa de foment de l'activitat de la recerc...</td>\n",
       "      <td>01/01/2018</td>\n",
       "      <td>30/09/2021</td>\n",
       "      <td>Oltra Massuet, Maria Isabel</td>\n",
       "      <td>Riutort Riutort, Macià;Ginebra Serrabou, Jordi</td>\n",
       "      <td>NaN</td>\n",
       "      <td>NaN</td>\n",
       "      <td>Universidad Rovira i Virgili</td>\n",
       "      <td>042-URV-P17131</td>\n",
       "      <td>16/06/2021</td>\n",
       "      <td>NaN</td>\n",
       "      <td>NaN</td>\n",
       "      <td>NaN</td>\n",
       "      <td>NaN</td>\n",
       "    </tr>\n",
       "  </tbody>\n",
       "</table>\n",
       "</div>"
      ],
      "text/plain": [
       "                                        _id       officialCode  \\\n",
       "0                          044-UDL-PJ000271         ALI96-0567   \n",
       "1  022-8c66acb8-dc1c-4548-957f-c400dc16db11         PNL2005-34   \n",
       "2                           004-UB-PE002530             765297   \n",
       "3                          044-UDL-PJ001278                NaN   \n",
       "4                            042-URV-P17131  2017PFR-URV-B2-64   \n",
       "\n",
       "                                               title  \\\n",
       "0  (un) - Mejora de la calidad de la fruta de pep...   \n",
       "1  (es) - Anàlisi d'elements traça per a la recon...   \n",
       "2  (un) - Network of Functional Molecular Contain...   \n",
       "3  (un) - Noves Tecnologies per a nous reptes en ...   \n",
       "4  (un) - Research on Language and Linguistics Ac...   \n",
       "\n",
       "                                                 url      code  \\\n",
       "0  http://webgrec.udl.cat/cgi-bin/3DADREC/critem....       271   \n",
       "1                                                NaN  46996168   \n",
       "2  https://webgrec.ub.edu/cgi-bin/3DADREC/critem....      2530   \n",
       "3  http://webgrec.udl.cat/cgi-bin/3DADREC/critem....      1278   \n",
       "4                                                NaN     17131   \n",
       "\n",
       "                                           programme   startDate     endDate  \\\n",
       "0  Convocatòria en el marc del Pla Nacional d'Inv...  01/07/1996  30/06/1999   \n",
       "1                                      Programes UAB  28/05/2005  28/05/2007   \n",
       "2  HORIZON 2020 (2014-2020). P1. MARIE SKŁODOWSKA...  06/05/2019  31/03/2022   \n",
       "3  Convocatòria d'ajuts per a projectes d'innovac...  01/09/2004  30/06/2005   \n",
       "4  Programa de foment de l'activitat de la recerc...  01/01/2018  30/09/2021   \n",
       "\n",
       "              principalResearchers  \\\n",
       "0  Viñas Almenar, M. Inmaculada C.   \n",
       "1             Mortyn, Peter Graham   \n",
       "2            Barril Alonso, Xavier   \n",
       "3          Sole Castells, Cristina   \n",
       "4      Oltra Massuet, Maria Isabel   \n",
       "\n",
       "                                 otherResearchers  \\\n",
       "0                           Fons Sole, Estanislau   \n",
       "1                          Pelachs Mañosa, Albert   \n",
       "2                                             NaN   \n",
       "3                    Figuerola Cabrol, Ma. Carmen   \n",
       "4  Riutort Riutort, Macià;Ginebra Serrabou, Jordi   \n",
       "\n",
       "  uncheckedPrincipalInvestigator uncheckedCoInvestigator  \\\n",
       "0                            NaN                     NaN   \n",
       "1                            NaN   Molina Gallart, David   \n",
       "2                            NaN     Serillon, Dylan Leo   \n",
       "3                            NaN  Parra Alba, Montserrat   \n",
       "4                            NaN                     NaN   \n",
       "\n",
       "                                ruct  \\\n",
       "0              Universidad de Lleida   \n",
       "1  Universidad Autónoma de Barcelona   \n",
       "2           Universidad de Barcelona   \n",
       "3              Universidad de Lleida   \n",
       "4       Universidad Rovira i Virgili   \n",
       "\n",
       "                                   sourceid   timestamp  \\\n",
       "0                          044-UDL-PJ000271  16/06/2021   \n",
       "1  022-8c66acb8-dc1c-4548-957f-c400dc16db11  16/06/2021   \n",
       "2                           004-UB-PE002530  16/06/2021   \n",
       "3                          044-UDL-PJ001278  16/06/2021   \n",
       "4                            042-URV-P17131  16/06/2021   \n",
       "\n",
       "  orcidPrincipalResearchers orcidOtherResearchers  \\\n",
       "0                       NaN                   NaN   \n",
       "1                       NaN                   NaN   \n",
       "2                       NaN                   NaN   \n",
       "3                       NaN                   NaN   \n",
       "4                       NaN                   NaN   \n",
       "\n",
       "  orcidUncheckedPrincipalInvestigator orcidUncheckedCoInvestigator  \n",
       "0                                 NaN                          NaN  \n",
       "1                                 NaN                          NaN  \n",
       "2                                 NaN                          NaN  \n",
       "3                                 NaN                          NaN  \n",
       "4                                 NaN                          NaN  "
      ]
     },
     "execution_count": 18,
     "metadata": {},
     "output_type": "execute_result"
    }
   ],
   "source": [
    "#read scraped file\n",
    "dx = pd.read_csv(r'C:\\WORK_IAAC\\submissions\\Internet of People\\IoP_WIP\\QGIS_data\\for_clusteranalysis\\Projectes_de_recerca_de_Catalunya.csv')\n",
    "dx.head()"
   ]
  },
  {
   "cell_type": "code",
   "execution_count": 19,
   "id": "9c77cfe8",
   "metadata": {},
   "outputs": [
    {
     "name": "stdout",
     "output_type": "stream",
     "text": [
      "<class 'pandas.core.frame.DataFrame'>\n",
      "RangeIndex: 274459 entries, 0 to 274458\n",
      "Data columns (total 19 columns):\n",
      " #   Column                               Non-Null Count   Dtype \n",
      "---  ------                               --------------   ----- \n",
      " 0   _id                                  274459 non-null  object\n",
      " 1   officialCode                         219945 non-null  object\n",
      " 2   title                                274455 non-null  object\n",
      " 3   url                                  73830 non-null   object\n",
      " 4   code                                 274455 non-null  object\n",
      " 5   programme                            147858 non-null  object\n",
      " 6   startDate                            273839 non-null  object\n",
      " 7   endDate                              267609 non-null  object\n",
      " 8   principalResearchers                 197075 non-null  object\n",
      " 9   otherResearchers                     186781 non-null  object\n",
      " 10  uncheckedPrincipalInvestigator       45418 non-null   object\n",
      " 11  uncheckedCoInvestigator              59133 non-null   object\n",
      " 12  ruct                                 274454 non-null  object\n",
      " 13  sourceid                             274454 non-null  object\n",
      " 14  timestamp                            274454 non-null  object\n",
      " 15  orcidPrincipalResearchers            40047 non-null   object\n",
      " 16  orcidOtherResearchers                37245 non-null   object\n",
      " 17  orcidUncheckedPrincipalInvestigator  10 non-null      object\n",
      " 18  orcidUncheckedCoInvestigator         170 non-null     object\n",
      "dtypes: object(19)\n",
      "memory usage: 39.8+ MB\n"
     ]
    }
   ],
   "source": [
    "dx.info()"
   ]
  },
  {
   "cell_type": "code",
   "execution_count": 20,
   "id": "fe67bfd3",
   "metadata": {},
   "outputs": [
    {
     "name": "stdout",
     "output_type": "stream",
     "text": [
      "<class 'pandas.core.frame.DataFrame'>\n",
      "RangeIndex: 274459 entries, 0 to 274458\n",
      "Data columns (total 14 columns):\n",
      " #   Column                          Non-Null Count   Dtype \n",
      "---  ------                          --------------   ----- \n",
      " 0   _id                             274459 non-null  object\n",
      " 1   officialCode                    219945 non-null  object\n",
      " 2   title                           274455 non-null  object\n",
      " 3   url                             73830 non-null   object\n",
      " 4   code                            274455 non-null  object\n",
      " 5   programme                       147858 non-null  object\n",
      " 6   startDate                       273839 non-null  object\n",
      " 7   endDate                         267609 non-null  object\n",
      " 8   principalResearchers            197075 non-null  object\n",
      " 9   otherResearchers                186781 non-null  object\n",
      " 10  uncheckedPrincipalInvestigator  45418 non-null   object\n",
      " 11  uncheckedCoInvestigator         59133 non-null   object\n",
      " 12  ruct                            274454 non-null  object\n",
      " 13  sourceid                        274454 non-null  object\n",
      "dtypes: object(14)\n",
      "memory usage: 29.3+ MB\n"
     ]
    }
   ],
   "source": [
    "dx = dx.iloc[:, :14]\n",
    "dx.info()"
   ]
  },
  {
   "cell_type": "code",
   "execution_count": 21,
   "id": "99765e71",
   "metadata": {},
   "outputs": [
    {
     "name": "stdout",
     "output_type": "stream",
     "text": [
      "<class 'pandas.core.frame.DataFrame'>\n",
      "RangeIndex: 274459 entries, 0 to 274458\n",
      "Data columns (total 6 columns):\n",
      " #   Column                Non-Null Count   Dtype \n",
      "---  ------                --------------   ----- \n",
      " 0   programme             147858 non-null  object\n",
      " 1   startDate             273839 non-null  object\n",
      " 2   endDate               267609 non-null  object\n",
      " 3   principalResearchers  197075 non-null  object\n",
      " 4   otherResearchers      186781 non-null  object\n",
      " 5   ruct                  274454 non-null  object\n",
      "dtypes: object(6)\n",
      "memory usage: 12.6+ MB\n"
     ]
    }
   ],
   "source": [
    "dx = dx.drop(dx.columns[[0, 1, 2, 3, 4, 10, 11, 13]], axis=1)\n",
    "dx.info()"
   ]
  },
  {
   "cell_type": "code",
   "execution_count": 23,
   "id": "a6431992",
   "metadata": {},
   "outputs": [],
   "source": [
    "dx['startDate'] = pd.to_datetime(dx['startDate'], format='%d/%m/%Y')"
   ]
  },
  {
   "cell_type": "code",
   "execution_count": 24,
   "id": "e3881819",
   "metadata": {},
   "outputs": [
    {
     "name": "stdout",
     "output_type": "stream",
     "text": [
      "<class 'pandas.core.frame.DataFrame'>\n",
      "RangeIndex: 274459 entries, 0 to 274458\n",
      "Data columns (total 6 columns):\n",
      " #   Column                Non-Null Count   Dtype         \n",
      "---  ------                --------------   -----         \n",
      " 0   programme             147858 non-null  object        \n",
      " 1   startDate             273839 non-null  datetime64[ns]\n",
      " 2   endDate               267609 non-null  object        \n",
      " 3   principalResearchers  197075 non-null  object        \n",
      " 4   otherResearchers      186781 non-null  object        \n",
      " 5   ruct                  274454 non-null  object        \n",
      "dtypes: datetime64[ns](1), object(5)\n",
      "memory usage: 12.6+ MB\n"
     ]
    }
   ],
   "source": [
    "dx.info()"
   ]
  },
  {
   "cell_type": "code",
   "execution_count": 25,
   "id": "a1305054",
   "metadata": {},
   "outputs": [],
   "source": [
    "#extact research project for last 10 years\n",
    "dxf = dx[dx['startDate'] > '01/01/2012']"
   ]
  },
  {
   "cell_type": "code",
   "execution_count": 27,
   "id": "d0c6a49a",
   "metadata": {},
   "outputs": [
    {
     "name": "stdout",
     "output_type": "stream",
     "text": [
      "<class 'pandas.core.frame.DataFrame'>\n",
      "Int64Index: 105399 entries, 2 to 274453\n",
      "Data columns (total 6 columns):\n",
      " #   Column                Non-Null Count   Dtype         \n",
      "---  ------                --------------   -----         \n",
      " 0   programme             67434 non-null   object        \n",
      " 1   startDate             105399 non-null  datetime64[ns]\n",
      " 2   endDate               103906 non-null  object        \n",
      " 3   principalResearchers  90124 non-null   object        \n",
      " 4   otherResearchers      65998 non-null   object        \n",
      " 5   ruct                  105399 non-null  object        \n",
      "dtypes: datetime64[ns](1), object(5)\n",
      "memory usage: 5.6+ MB\n"
     ]
    }
   ],
   "source": [
    "dxf.info()"
   ]
  },
  {
   "cell_type": "code",
   "execution_count": 29,
   "id": "20e9a669",
   "metadata": {},
   "outputs": [
    {
     "data": {
      "text/html": [
       "<div>\n",
       "<style scoped>\n",
       "    .dataframe tbody tr th:only-of-type {\n",
       "        vertical-align: middle;\n",
       "    }\n",
       "\n",
       "    .dataframe tbody tr th {\n",
       "        vertical-align: top;\n",
       "    }\n",
       "\n",
       "    .dataframe thead th {\n",
       "        text-align: right;\n",
       "    }\n",
       "</style>\n",
       "<table border=\"1\" class=\"dataframe\">\n",
       "  <thead>\n",
       "    <tr style=\"text-align: right;\">\n",
       "      <th></th>\n",
       "      <th>uni</th>\n",
       "      <th>projects</th>\n",
       "    </tr>\n",
       "  </thead>\n",
       "  <tbody>\n",
       "    <tr>\n",
       "      <th>0</th>\n",
       "      <td>Universidad de Barcelona</td>\n",
       "      <td>9756</td>\n",
       "    </tr>\n",
       "    <tr>\n",
       "      <th>1</th>\n",
       "      <td>Universidad Rovira i Virgili</td>\n",
       "      <td>7000</td>\n",
       "    </tr>\n",
       "    <tr>\n",
       "      <th>2</th>\n",
       "      <td>Universitat Oberta de Catalunya</td>\n",
       "      <td>3675</td>\n",
       "    </tr>\n",
       "    <tr>\n",
       "      <th>3</th>\n",
       "      <td>Universidad de Girona</td>\n",
       "      <td>3485</td>\n",
       "    </tr>\n",
       "    <tr>\n",
       "      <th>4</th>\n",
       "      <td>Universidad Pompeu Fabra</td>\n",
       "      <td>6926</td>\n",
       "    </tr>\n",
       "  </tbody>\n",
       "</table>\n",
       "</div>"
      ],
      "text/plain": [
       "                               uni  projects\n",
       "0         Universidad de Barcelona      9756\n",
       "1     Universidad Rovira i Virgili      7000\n",
       "2  Universitat Oberta de Catalunya      3675\n",
       "3            Universidad de Girona      3485\n",
       "4         Universidad Pompeu Fabra      6926"
      ]
     },
     "execution_count": 29,
     "metadata": {},
     "output_type": "execute_result"
    }
   ],
   "source": [
    "# create a new dataframe with the unique values and their counts\n",
    "df3 = pd.DataFrame({'uni': dxf['ruct'].unique(),\n",
    "                    'projects': [dxf[dxf['ruct']==v]['ruct'].count() for v in dxf['ruct'].unique()]})\n",
    "\n",
    "df3.head()"
   ]
  },
  {
   "cell_type": "code",
   "execution_count": 30,
   "id": "58219f36",
   "metadata": {},
   "outputs": [
    {
     "name": "stdout",
     "output_type": "stream",
     "text": [
      "<class 'pandas.core.frame.DataFrame'>\n",
      "RangeIndex: 235 entries, 0 to 234\n",
      "Data columns (total 2 columns):\n",
      " #   Column    Non-Null Count  Dtype \n",
      "---  ------    --------------  ----- \n",
      " 0   uni       235 non-null    object\n",
      " 1   projects  235 non-null    int64 \n",
      "dtypes: int64(1), object(1)\n",
      "memory usage: 3.8+ KB\n"
     ]
    }
   ],
   "source": [
    "df3.info()"
   ]
  },
  {
   "cell_type": "code",
   "execution_count": 31,
   "id": "12f9be22",
   "metadata": {},
   "outputs": [
    {
     "name": "stdout",
     "output_type": "stream",
     "text": [
      "<class 'pandas.core.frame.DataFrame'>\n",
      "Int64Index: 176 entries, 0 to 175\n",
      "Data columns (total 5 columns):\n",
      " #   Column       Non-Null Count  Dtype  \n",
      "---  ------       --------------  -----  \n",
      " 0   uni          176 non-null    object \n",
      " 1   researchers  176 non-null    int64  \n",
      " 2   Latitude     174 non-null    float64\n",
      " 3   Longitude    174 non-null    float64\n",
      " 4   projects     176 non-null    int64  \n",
      "dtypes: float64(2), int64(2), object(1)\n",
      "memory usage: 8.2+ KB\n"
     ]
    }
   ],
   "source": [
    "dff = pd.merge(df2, df3, on='uni')\n",
    "dff.info()"
   ]
  },
  {
   "cell_type": "code",
   "execution_count": 32,
   "id": "ad7463ac",
   "metadata": {},
   "outputs": [
    {
     "data": {
      "text/html": [
       "<div>\n",
       "<style scoped>\n",
       "    .dataframe tbody tr th:only-of-type {\n",
       "        vertical-align: middle;\n",
       "    }\n",
       "\n",
       "    .dataframe tbody tr th {\n",
       "        vertical-align: top;\n",
       "    }\n",
       "\n",
       "    .dataframe thead th {\n",
       "        text-align: right;\n",
       "    }\n",
       "</style>\n",
       "<table border=\"1\" class=\"dataframe\">\n",
       "  <thead>\n",
       "    <tr style=\"text-align: right;\">\n",
       "      <th></th>\n",
       "      <th>uni</th>\n",
       "      <th>researchers</th>\n",
       "      <th>Latitude</th>\n",
       "      <th>Longitude</th>\n",
       "      <th>projects</th>\n",
       "    </tr>\n",
       "  </thead>\n",
       "  <tbody>\n",
       "    <tr>\n",
       "      <th>0</th>\n",
       "      <td>Universitat Internacional de Catalunya</td>\n",
       "      <td>3465</td>\n",
       "      <td>41.067750</td>\n",
       "      <td>1.091650</td>\n",
       "      <td>2301</td>\n",
       "    </tr>\n",
       "    <tr>\n",
       "      <th>1</th>\n",
       "      <td>Institut Hospital del Mar d'Investigacions Mèd...</td>\n",
       "      <td>2562</td>\n",
       "      <td>43.400170</td>\n",
       "      <td>-4.008460</td>\n",
       "      <td>1254</td>\n",
       "    </tr>\n",
       "    <tr>\n",
       "      <th>2</th>\n",
       "      <td>Universitat de Girona</td>\n",
       "      <td>5908</td>\n",
       "      <td>41.962081</td>\n",
       "      <td>2.832343</td>\n",
       "      <td>2079</td>\n",
       "    </tr>\n",
       "    <tr>\n",
       "      <th>3</th>\n",
       "      <td>Universitat de Lleida,Universitat Politècnica ...</td>\n",
       "      <td>6</td>\n",
       "      <td>41.388690</td>\n",
       "      <td>2.116030</td>\n",
       "      <td>10</td>\n",
       "    </tr>\n",
       "    <tr>\n",
       "      <th>4</th>\n",
       "      <td>Universitat Politècnica de Catalunya</td>\n",
       "      <td>14486</td>\n",
       "      <td>41.388690</td>\n",
       "      <td>2.116030</td>\n",
       "      <td>6764</td>\n",
       "    </tr>\n",
       "  </tbody>\n",
       "</table>\n",
       "</div>"
      ],
      "text/plain": [
       "                                                 uni  researchers   Latitude  \\\n",
       "0             Universitat Internacional de Catalunya         3465  41.067750   \n",
       "1  Institut Hospital del Mar d'Investigacions Mèd...         2562  43.400170   \n",
       "2                              Universitat de Girona         5908  41.962081   \n",
       "3  Universitat de Lleida,Universitat Politècnica ...            6  41.388690   \n",
       "4               Universitat Politècnica de Catalunya        14486  41.388690   \n",
       "\n",
       "   Longitude  projects  \n",
       "0   1.091650      2301  \n",
       "1  -4.008460      1254  \n",
       "2   2.832343      2079  \n",
       "3   2.116030        10  \n",
       "4   2.116030      6764  "
      ]
     },
     "execution_count": 32,
     "metadata": {},
     "output_type": "execute_result"
    }
   ],
   "source": [
    "dff.head()"
   ]
  },
  {
   "cell_type": "code",
   "execution_count": 33,
   "id": "e789f749",
   "metadata": {},
   "outputs": [],
   "source": [
    "dff.to_csv(r'C:\\WORK_IAAC\\submissions\\Internet of People\\IoP_WIP\\QGIS_data\\uni.csv',index=False)"
   ]
  },
  {
   "cell_type": "code",
   "execution_count": null,
   "id": "253cad1b",
   "metadata": {},
   "outputs": [],
   "source": []
  }
 ],
 "metadata": {
  "kernelspec": {
   "display_name": "Python 3 (ipykernel)",
   "language": "python",
   "name": "python3"
  },
  "language_info": {
   "codemirror_mode": {
    "name": "ipython",
    "version": 3
   },
   "file_extension": ".py",
   "mimetype": "text/x-python",
   "name": "python",
   "nbconvert_exporter": "python",
   "pygments_lexer": "ipython3",
   "version": "3.9.13"
  }
 },
 "nbformat": 4,
 "nbformat_minor": 5
}
